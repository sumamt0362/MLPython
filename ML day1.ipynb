{
 "cells": [
  {
   "cell_type": "code",
   "execution_count": 1,
   "id": "9f6c6106-98e9-4f03-a647-4785471d5457",
   "metadata": {},
   "outputs": [
    {
     "name": "stdout",
     "output_type": "stream",
     "text": [
      "24\n"
     ]
    }
   ],
   "source": [
    "a=24\n",
    "print(a)"
   ]
  },
  {
   "cell_type": "code",
   "execution_count": 5,
   "id": "029f2819-bdf4-47da-9fdf-8168da50fe9a",
   "metadata": {},
   "outputs": [
    {
     "name": "stdout",
     "output_type": "stream",
     "text": [
      "i am 24 years old\n"
     ]
    }
   ],
   "source": [
    "print(\"i am\",a,\"years old\")"
   ]
  },
  {
   "cell_type": "code",
   "execution_count": 8,
   "id": "7d54d8d2-67e4-493d-aa5d-b9244bd32389",
   "metadata": {},
   "outputs": [
    {
     "name": "stdout",
     "output_type": "stream",
     "text": [
      "40\n"
     ]
    }
   ],
   "source": [
    "a=24\n",
    "b=16\n",
    "c=a+b\n",
    "print(c)"
   ]
  },
  {
   "cell_type": "code",
   "execution_count": 14,
   "id": "792eec98-3112-4ad4-b1c9-154e4f6cfc99",
   "metadata": {},
   "outputs": [
    {
     "name": "stdin",
     "output_type": "stream",
     "text": [
      "enter a first number 1\n",
      "enter a second number 34\n"
     ]
    },
    {
     "name": "stdout",
     "output_type": "stream",
     "text": [
      "the sum is 134\n"
     ]
    }
   ],
   "source": [
    "a=input(\"enter a first number\")\n",
    "b=input(\"enter a second number\")\n",
    "c=a+b\n",
    "print(\"the sum is\",c) \n",
    "# this is string operation"
   ]
  },
  {
   "cell_type": "code",
   "execution_count": 12,
   "id": "df9562e0-b580-4319-b344-91f738581d97",
   "metadata": {},
   "outputs": [
    {
     "name": "stdin",
     "output_type": "stream",
     "text": [
      "enter a first number 12\n",
      "enter a second number 23\n"
     ]
    },
    {
     "name": "stdout",
     "output_type": "stream",
     "text": [
      "the sum is 35\n"
     ]
    }
   ],
   "source": [
    "a=int(input(\"enter a first number\"))\n",
    "b=int(input(\"enter a second number\"))\n",
    "c=a+b\n",
    "print(\"the sum is\",c) "
   ]
  },
  {
   "cell_type": "code",
   "execution_count": 13,
   "id": "d6612576-b3f4-4c8e-9551-b1683f262b98",
   "metadata": {},
   "outputs": [
    {
     "name": "stdin",
     "output_type": "stream",
     "text": [
      "enter a first number 23\n",
      "enter a second number 12\n"
     ]
    },
    {
     "name": "stdout",
     "output_type": "stream",
     "text": [
      "the sum is 276\n"
     ]
    }
   ],
   "source": [
    "a=int(input(\"enter a first number\"))\n",
    "b=int(input(\"enter a second number\"))\n",
    "c=a*b\n",
    "print(\"the sum is\",c) "
   ]
  },
  {
   "cell_type": "code",
   "execution_count": 17,
   "id": "0a139aa8-b822-4ad5-b8a4-bccab798ec01",
   "metadata": {},
   "outputs": [
    {
     "name": "stdin",
     "output_type": "stream",
     "text": [
      "enter a first number 34\n",
      "enter a second number 21\n"
     ]
    },
    {
     "name": "stdout",
     "output_type": "stream",
     "text": [
      "the sum is 13.0\n"
     ]
    }
   ],
   "source": [
    "num1=float(input(\"enter a first number\"))\n",
    "num2=float(input(\"enter a second number\"))\n",
    "c=num1-num2\n",
    "print(\"the sum is\",c)"
   ]
  },
  {
   "cell_type": "code",
   "execution_count": 19,
   "id": "209be0ff-c24b-435c-8cc2-67e335510983",
   "metadata": {},
   "outputs": [
    {
     "name": "stdin",
     "output_type": "stream",
     "text": [
      "enter a first number 54\n",
      "enter a second number 3\n"
     ]
    },
    {
     "name": "stdout",
     "output_type": "stream",
     "text": [
      "the quotient is 18\n"
     ]
    }
   ],
   "source": [
    "a=int(input(\"enter a first number\"))\n",
    "b=int(input(\"enter a second number\"))\n",
    "c=a//b\n",
    "print(\"the quotient is\",c) "
   ]
  },
  {
   "cell_type": "code",
   "execution_count": 20,
   "id": "1f40d171-3f6d-4ea3-b93c-4ca4e06be955",
   "metadata": {},
   "outputs": [
    {
     "name": "stdin",
     "output_type": "stream",
     "text": [
      "enter a first number 65\n",
      "enter a second number 54\n"
     ]
    },
    {
     "name": "stdout",
     "output_type": "stream",
     "text": [
      "the quotient is 1.0\n"
     ]
    }
   ],
   "source": [
    "num1=float(input(\"enter a first number\"))\n",
    "num2=float(input(\"enter a second number\"))\n",
    "c=num1//num2\n",
    "print(\"the quotient is\",c)"
   ]
  },
  {
   "cell_type": "code",
   "execution_count": 21,
   "id": "14747152-eaf6-4d1d-b4e3-165e98b40bd7",
   "metadata": {},
   "outputs": [
    {
     "name": "stdin",
     "output_type": "stream",
     "text": [
      "enter a first number 54\n",
      "enter a second number 2\n"
     ]
    },
    {
     "name": "stdout",
     "output_type": "stream",
     "text": [
      "the remainder is 0\n"
     ]
    }
   ],
   "source": [
    "a=int(input(\"enter a first number\"))\n",
    "b=int(input(\"enter a second number\"))\n",
    "c=a%b\n",
    "print(\"the remainder is\",c) "
   ]
  },
  {
   "cell_type": "code",
   "execution_count": 29,
   "id": "dc746b4b-1afe-4b26-a1f0-9f7aa419359f",
   "metadata": {},
   "outputs": [
    {
     "name": "stdout",
     "output_type": "stream",
     "text": [
      "a is greate tha b\n"
     ]
    }
   ],
   "source": [
    "a=43\n",
    "b=21\n",
    "if(a>b):\n",
    "    print(\"a is greate tha b\")\n",
    "else:\n",
    "    print(\"b is gretare tha a\")"
   ]
  },
  {
   "cell_type": "code",
   "execution_count": 33,
   "id": "14b711f7-9806-46c7-bd5d-6e3b9e15784e",
   "metadata": {},
   "outputs": [
    {
     "name": "stdin",
     "output_type": "stream",
     "text": [
      "enter the password: suma03@gmail.com\n"
     ]
    },
    {
     "name": "stdout",
     "output_type": "stream",
     "text": [
      "welcome\n"
     ]
    }
   ],
   "source": [
    "password=\"suma03@gmail.com\"\n",
    "p=input(\"enter the password:\")\n",
    "\n",
    "if p==password:\n",
    "    print(\"welcome\")\n",
    "else:\n",
    "    print(\"try again\")"
   ]
  },
  {
   "cell_type": "code",
   "execution_count": 34,
   "id": "96dc617c-5e3d-45f2-900d-1d3f2a0e01b9",
   "metadata": {},
   "outputs": [
    {
     "name": "stdin",
     "output_type": "stream",
     "text": [
      "enter the password: sumaa4@gmail.com\n"
     ]
    },
    {
     "name": "stdout",
     "output_type": "stream",
     "text": [
      "get out\n"
     ]
    }
   ],
   "source": [
    "password=\"suma03@gmail.com\"\n",
    "p=input(\"enter the password:\")\n",
    "\n",
    "if p==password:\n",
    "    print(\"welcome\")\n",
    "else:\n",
    "    print(\"get out\")"
   ]
  },
  {
   "cell_type": "code",
   "execution_count": 39,
   "id": "870ddcc2-8919-436a-ac71-f092475568f3",
   "metadata": {},
   "outputs": [
    {
     "name": "stdin",
     "output_type": "stream",
     "text": [
      "enter the password suma03@gmail.com\n",
      "enter the code 1346\n"
     ]
    },
    {
     "name": "stdout",
     "output_type": "stream",
     "text": [
      "welcome\n"
     ]
    }
   ],
   "source": [
    "password=\"suma03@gmail.com\"\n",
    "pin=1346\n",
    "p=input(\"enter the password\")\n",
    "pi=int(input(\"enter the code\"))\n",
    "if p==password and pin==pi:\n",
    "    print(\"welcome\")\n",
    "else:\n",
    "    print(\"try again\")"
   ]
  },
  {
   "cell_type": "code",
   "execution_count": 41,
   "id": "09529e43-5953-4e11-adcd-2971d5559ebc",
   "metadata": {},
   "outputs": [
    {
     "name": "stdin",
     "output_type": "stream",
     "text": [
      "enter the password suma03@gmail.com\n",
      "enter the code 123\n"
     ]
    },
    {
     "name": "stdout",
     "output_type": "stream",
     "text": [
      "welcome\n"
     ]
    }
   ],
   "source": [
    "password=\"suma03@gmail.com\"\n",
    "pin=1346\n",
    "p=input(\"enter the password\")\n",
    "pi=int(input(\"enter the code\"))\n",
    "if p==password or pin==pi:\n",
    "    print(\"welcome\")\n",
    "else:\n",
    "    print(\"try again\")\n",
    "# OR=if one is correct it show welcome "
   ]
  },
  {
   "cell_type": "code",
   "execution_count": 52,
   "id": "6c904010-2eba-4b1d-aaba-3d7ed17b000e",
   "metadata": {},
   "outputs": [
    {
     "name": "stdout",
     "output_type": "stream",
     "text": [
      "you\n"
     ]
    }
   ],
   "source": [
    "s=\"Hello how are you?\"\n",
    "#[start:end] we also consider space\n",
    "print(s[14:17])"
   ]
  },
  {
   "cell_type": "code",
   "execution_count": 51,
   "id": "ccbf0159-0747-46ec-ad8c-e2656306985d",
   "metadata": {},
   "outputs": [
    {
     "name": "stdout",
     "output_type": "stream",
     "text": [
      "you\n"
     ]
    }
   ],
   "source": [
    "s=\"Hello how are you?\"\n",
    "print(s[-4:-1])"
   ]
  },
  {
   "cell_type": "code",
   "execution_count": 58,
   "id": "40fe6cfd-631b-4f91-ac72-af8fbdaf1807",
   "metadata": {},
   "outputs": [
    {
     "name": "stdout",
     "output_type": "stream",
     "text": [
      "how\n"
     ]
    }
   ],
   "source": [
    "s=\"Hello how are you?\"\n",
    "print(s[-12:-9])"
   ]
  },
  {
   "cell_type": "code",
   "execution_count": 59,
   "id": "706d8d5d-22a1-46a7-997f-04a37ab2b46b",
   "metadata": {},
   "outputs": [
    {
     "data": {
      "text/plain": [
       "18"
      ]
     },
     "execution_count": 59,
     "metadata": {},
     "output_type": "execute_result"
    }
   ],
   "source": [
    "len(s)"
   ]
  },
  {
   "cell_type": "code",
   "execution_count": 65,
   "id": "d609717e-9221-4ed3-8db4-e63483b39ab5",
   "metadata": {},
   "outputs": [
    {
     "name": "stdout",
     "output_type": "stream",
     "text": [
      "H\n",
      "e\n",
      "l\n",
      "l\n",
      "o\n",
      " \n",
      "h\n",
      "o\n",
      "w\n",
      " \n",
      "a\n",
      "r\n",
      "e\n",
      " \n",
      "y\n",
      "o\n",
      "u\n",
      "?\n"
     ]
    }
   ],
   "source": [
    "s=\"Hello how are you?\"\n",
    "for i in range(0,18):\n",
    "    print(s[i])"
   ]
  },
  {
   "cell_type": "code",
   "execution_count": 1,
   "id": "1b36913e-3080-4a55-9efc-7f7662bf26b6",
   "metadata": {},
   "outputs": [
    {
     "name": "stdout",
     "output_type": "stream",
     "text": [
      "120\n"
     ]
    }
   ],
   "source": [
    "fact=1\n",
    "i=1\n",
    "\n",
    "while i<=5: #5<=5\n",
    "    fact*=i #24 #fact=fact*i\n",
    "    i=i+1 #5\n",
    "print(fact)"
   ]
  },
  {
   "cell_type": "code",
   "execution_count": 2,
   "id": "c88444a5-a5c5-4bf8-9e65-52264497ff99",
   "metadata": {},
   "outputs": [
    {
     "name": "stdout",
     "output_type": "stream",
     "text": [
      "120\n"
     ]
    }
   ],
   "source": [
    "fact=1\n",
    "i=1\n",
    "\n",
    "while i<=5: \n",
    "    fact=fact*i #24 \n",
    "    i=i+1 #5\n",
    "print(fact)"
   ]
  },
  {
   "cell_type": "code",
   "execution_count": 3,
   "id": "8164c463-c17a-44c2-b4ef-99f30a78f668",
   "metadata": {},
   "outputs": [
    {
     "name": "stdout",
     "output_type": "stream",
     "text": [
      "[9, 90, 'like', 90.7, True, 'like']\n"
     ]
    }
   ],
   "source": [
    "#COLLECTIONS\n",
    "#list #mutable(changes are possible ex: add , remove etc),heterogenous,accepts duplicates\n",
    "list1=[9,90,'like',90.7,True,'like']\n",
    "print(list1)"
   ]
  },
  {
   "cell_type": "code",
   "execution_count": 11,
   "id": "a0c0ead4-03ce-4724-8527-e42e3d9d4a6a",
   "metadata": {},
   "outputs": [
    {
     "name": "stdout",
     "output_type": "stream",
     "text": [
      "[9, 90, 'like', 90.7, True, 'like']\n",
      "True\n"
     ]
    }
   ],
   "source": [
    "list1=[9,90,'like',90.7,True,'like']\n",
    "print(list1)\n",
    "print(list1[4])"
   ]
  },
  {
   "cell_type": "code",
   "execution_count": 12,
   "id": "6b6ee1cd-e92f-4898-819e-ba52043f0481",
   "metadata": {},
   "outputs": [
    {
     "name": "stdout",
     "output_type": "stream",
     "text": [
      "[9, 90, 'like', 90.7, True, 'like', 'shree']\n"
     ]
    }
   ],
   "source": [
    "list1.append('shree')\n",
    "print(list1)"
   ]
  },
  {
   "cell_type": "code",
   "execution_count": 7,
   "id": "c62d7c75-d841-4721-aa70-1ef0d7004ef4",
   "metadata": {},
   "outputs": [
    {
     "name": "stdout",
     "output_type": "stream",
     "text": [
      "[9, 90, 'like', 90.7, 'suma', 'suma', True, 'like']\n"
     ]
    }
   ],
   "source": [
    "list1.insert(4,'suma') #insert(index,element)\n",
    "print(list1)"
   ]
  },
  {
   "cell_type": "code",
   "execution_count": 20,
   "id": "e0604833-8e6f-4578-b04e-592745cdc943",
   "metadata": {},
   "outputs": [
    {
     "data": {
      "text/plain": [
       "[]"
      ]
     },
     "execution_count": 20,
     "metadata": {},
     "output_type": "execute_result"
    }
   ],
   "source": [
    "list1.clear()\n",
    "list1"
   ]
  },
  {
   "cell_type": "code",
   "execution_count": 19,
   "id": "249993e4-5e63-4aa1-b50e-e2020612bc74",
   "metadata": {},
   "outputs": [
    {
     "name": "stdout",
     "output_type": "stream",
     "text": [
      "[90, 45, 49, 95, 98, 34, 66, 77, 9, 90, 90.7, True, 'shree']\n"
     ]
    }
   ],
   "source": [
    "list2=[90,45,49,95]\n",
    "list3=[98,34,66,77]\n",
    "print(list2+list3+list1)"
   ]
  },
  {
   "cell_type": "code",
   "execution_count": 16,
   "id": "d9f79766-0705-4f42-a5a2-74b7698f01b8",
   "metadata": {},
   "outputs": [
    {
     "name": "stdout",
     "output_type": "stream",
     "text": [
      "None\n"
     ]
    }
   ],
   "source": [
    "print(list2.extend(list3))"
   ]
  },
  {
   "cell_type": "code",
   "execution_count": 10,
   "id": "cb414af6-dc3c-4fab-843a-390ad5ac7a6e",
   "metadata": {},
   "outputs": [
    {
     "data": {
      "text/plain": [
       "[34, 66, 77, 98]"
      ]
     },
     "execution_count": 10,
     "metadata": {},
     "output_type": "execute_result"
    }
   ],
   "source": [
    "list3.sort() #sort changes the original list\n",
    "list3"
   ]
  },
  {
   "cell_type": "code",
   "execution_count": 21,
   "id": "4b36fcb4-c20c-40b3-a3b2-ba9f15126083",
   "metadata": {},
   "outputs": [
    {
     "data": {
      "text/plain": [
       "[99, 45, 12, 103, 46]"
      ]
     },
     "execution_count": 21,
     "metadata": {},
     "output_type": "execute_result"
    }
   ],
   "source": [
    "#sort changes the original list\n",
    "#sorted never changes the original list(if we want to make changes we create a new list)\n",
    "#when elements are over the loop should be for \n",
    "#when elements are true or false the loop should comming out =while(condition statement)\n",
    "list6 = [99,45,12,103,46]\n",
    "sorted(list6)\n",
    "list6"
   ]
  },
  {
   "cell_type": "code",
   "execution_count": 6,
   "id": "8d09eb94-ffae-4e45-9c8c-21e47ecc648c",
   "metadata": {},
   "outputs": [
    {
     "data": {
      "text/plain": [
       "[12, 45, 46, 99, 103]"
      ]
     },
     "execution_count": 6,
     "metadata": {},
     "output_type": "execute_result"
    }
   ],
   "source": [
    "list6 = [99,45,12,103,46]\n",
    "list7 = sorted(list6) #changes are not reflected in original list\n",
    "list7 #need to save the changes in different list"
   ]
  },
  {
   "cell_type": "code",
   "execution_count": 7,
   "id": "98d08668-7da7-434d-b765-8716495ad1a8",
   "metadata": {},
   "outputs": [
    {
     "data": {
      "text/plain": [
       "[99, 45, 12, 103, 46]"
      ]
     },
     "execution_count": 7,
     "metadata": {},
     "output_type": "execute_result"
    }
   ],
   "source": [
    "list6"
   ]
  },
  {
   "cell_type": "code",
   "execution_count": 8,
   "id": "4ae17311-27a5-49bf-991d-0080ac4360fb",
   "metadata": {},
   "outputs": [
    {
     "name": "stdout",
     "output_type": "stream",
     "text": [
      "9801\n",
      "2025\n",
      "144\n",
      "10609\n",
      "2116\n"
     ]
    }
   ],
   "source": [
    "for i in list6:\n",
    "    print(i*i)"
   ]
  },
  {
   "cell_type": "code",
   "execution_count": 9,
   "id": "b308b696-2005-4d8a-8a1d-a99adab1e849",
   "metadata": {},
   "outputs": [],
   "source": [
    "#newlist=[output for listname]\n",
    "listnew=[i*i for i in list6]"
   ]
  },
  {
   "cell_type": "code",
   "execution_count": 10,
   "id": "9156e68e-d636-4750-9ba6-48159733159c",
   "metadata": {},
   "outputs": [
    {
     "data": {
      "text/plain": [
       "[9801, 2025, 144, 10609, 2116]"
      ]
     },
     "execution_count": 10,
     "metadata": {},
     "output_type": "execute_result"
    }
   ],
   "source": [
    "listnew"
   ]
  },
  {
   "cell_type": "code",
   "execution_count": 11,
   "id": "69d90618-ba7f-4c3c-8544-5031a6122f46",
   "metadata": {},
   "outputs": [
    {
     "name": "stdout",
     "output_type": "stream",
     "text": [
      "1.0\n",
      "1.0\n",
      "1.0\n",
      "1.0\n",
      "1.0\n"
     ]
    }
   ],
   "source": [
    "for i in list6:\n",
    "    print(i/i)"
   ]
  },
  {
   "cell_type": "code",
   "execution_count": 12,
   "id": "8c80de49-6575-4974-9f44-afcd20f4aa3d",
   "metadata": {},
   "outputs": [
    {
     "data": {
      "text/plain": [
       "[1.0, 1.0, 1.0, 1.0, 1.0]"
      ]
     },
     "execution_count": 12,
     "metadata": {},
     "output_type": "execute_result"
    }
   ],
   "source": [
    "listnew=[i/i for i in list6]\n",
    "listnew"
   ]
  },
  {
   "cell_type": "code",
   "execution_count": 13,
   "id": "70f1d91a-92e0-4016-9683-189f36086c7e",
   "metadata": {},
   "outputs": [
    {
     "data": {
      "text/plain": [
       "[198, 90, 24, 206, 92]"
      ]
     },
     "execution_count": 13,
     "metadata": {},
     "output_type": "execute_result"
    }
   ],
   "source": [
    "listnew=[i*2 for i in list6]\n",
    "listnew"
   ]
  },
  {
   "cell_type": "code",
   "execution_count": 14,
   "id": "b28de717-48a2-4ba8-8139-c61c25fe7b26",
   "metadata": {},
   "outputs": [
    {
     "data": {
      "text/plain": [
       "[9801, 2025, 144, 10609, 2116]"
      ]
     },
     "execution_count": 14,
     "metadata": {},
     "output_type": "execute_result"
    }
   ],
   "source": [
    "squr=[]\n",
    "for i in list6:\n",
    "    squr.append(i*i)\n",
    "squr"
   ]
  },
  {
   "cell_type": "code",
   "execution_count": 15,
   "id": "bb559b71-c761-47c0-a731-f1694b480d15",
   "metadata": {},
   "outputs": [],
   "source": [
    "s=[]\n",
    "for i in list6:\n",
    "    if i>50:\n",
    "        s.append(i*i)"
   ]
  },
  {
   "cell_type": "code",
   "execution_count": 16,
   "id": "c38dfc89-5f8e-4ce7-8b4e-2907c1ec2e78",
   "metadata": {},
   "outputs": [
    {
     "data": {
      "text/plain": [
       "[9801, 10609]"
      ]
     },
     "execution_count": 16,
     "metadata": {},
     "output_type": "execute_result"
    }
   ],
   "source": [
    "s"
   ]
  },
  {
   "cell_type": "code",
   "execution_count": 17,
   "id": "8e62fbd7-4cf0-4aef-bd9a-a129fadf9c6e",
   "metadata": {},
   "outputs": [],
   "source": [
    "#newlist =[output for if]\n",
    "scl=[i*i for i in list6 if i>50]"
   ]
  },
  {
   "cell_type": "code",
   "execution_count": 25,
   "id": "965e70cc-6c60-4ecb-b1c8-014d16533049",
   "metadata": {},
   "outputs": [
    {
     "data": {
      "text/plain": [
       "[9801, 10609]"
      ]
     },
     "execution_count": 25,
     "metadata": {},
     "output_type": "execute_result"
    }
   ],
   "source": [
    "scl"
   ]
  },
  {
   "cell_type": "code",
   "execution_count": 30,
   "id": "312be458-fdf9-412b-ada8-df986056a0d4",
   "metadata": {},
   "outputs": [],
   "source": [
    "marks=[92,78,89,98,100]\n",
    "grades=[]\n",
    "\n",
    "for i in marks:\n",
    "    if i>90:\n",
    "        grades.append(\"A\") #body of if\n",
    "    else:\n",
    "        grades.append(\"B\") #body of else\n"
   ]
  },
  {
   "cell_type": "code",
   "execution_count": 31,
   "id": "93ea2926-6d2c-45c3-a432-12d5db48f1fd",
   "metadata": {},
   "outputs": [
    {
     "data": {
      "text/plain": [
       "['A', 'B', 'B', 'A', 'A']"
      ]
     },
     "execution_count": 31,
     "metadata": {},
     "output_type": "execute_result"
    }
   ],
   "source": [
    "grades"
   ]
  },
  {
   "cell_type": "code",
   "execution_count": 28,
   "id": "2c4dca57-d456-43c7-8f27-2fd69317a7f1",
   "metadata": {},
   "outputs": [],
   "source": [
    "#newlist=[(body of if)(if condition)(else)(body of else)for]\n",
    "gradeslc=[\"A\" if i>90 else \"B\" for i in marks]"
   ]
  },
  {
   "cell_type": "code",
   "execution_count": null,
   "id": "878f5958-b285-412b-bb0b-12b499acf97d",
   "metadata": {},
   "outputs": [],
   "source": [
    "gradeslc"
   ]
  },
  {
   "cell_type": "markdown",
   "id": "c6b27fc2-401e-4d85-88ca-b091c4228358",
   "metadata": {},
   "source": [
    "if the salary is more than 50000,reduce 10% tax else reduce 5% tax and save remaining salary in a new list"
   ]
  },
  {
   "cell_type": "code",
   "execution_count": 34,
   "id": "012151e0-8afd-4c2c-920e-0bba52d02a1b",
   "metadata": {},
   "outputs": [
    {
     "data": {
      "text/plain": [
       "[18050.0, 70200.0, 9500.0, 50400.0, 42750.0, 11400.0]"
      ]
     },
     "execution_count": 34,
     "metadata": {},
     "output_type": "execute_result"
    }
   ],
   "source": [
    "sal=[19000,78000,10000,56000,45000,12000]\n",
    "fsal=[]\n",
    "for i in sal:\n",
    "    if i>50000:\n",
    "        #sal-sal*10%\n",
    "        fsal.append(i-i*0.1)\n",
    "    else:\n",
    "        #sal-sal*5%\n",
    "        fsal.append(i-i*0.05)\n",
    "fsal"
   ]
  },
  {
   "cell_type": "code",
   "execution_count": 37,
   "id": "706ff038-ba3f-4d7b-ada7-31b7736a6ec5",
   "metadata": {},
   "outputs": [
    {
     "name": "stdout",
     "output_type": "stream",
     "text": [
      "18050.0\n",
      "70200.0\n",
      "9500.0\n",
      "50400.0\n",
      "42750.0\n",
      "11400.0\n"
     ]
    }
   ],
   "source": [
    "for i in fsal:\n",
    "    print(i)"
   ]
  },
  {
   "cell_type": "code",
   "execution_count": 40,
   "id": "cef916f5-7019-44b9-98e4-1f9820abd6d3",
   "metadata": {},
   "outputs": [
    {
     "data": {
      "text/plain": [
       "[18050.0, 70200.0, 9500.0, 50400.0, 42750.0, 11400.0]"
      ]
     },
     "execution_count": 40,
     "metadata": {},
     "output_type": "execute_result"
    }
   ],
   "source": [
    "fsal=[i-i*0.1 if i>50000 else i-i*0.05 for i in sal]\n",
    "fsal"
   ]
  },
  {
   "cell_type": "code",
   "execution_count": 43,
   "id": "4a03bf0e-4726-4567-98ee-82d62e156f35",
   "metadata": {},
   "outputs": [
    {
     "name": "stdout",
     "output_type": "stream",
     "text": [
      "179\n",
      "90\n",
      "61\n",
      "118\n"
     ]
    }
   ],
   "source": [
    "list2=[90,45,49,95]\n",
    "list4=[89,45,12,23,99,88]\n",
    "for i,j in zip(list2,list4):\n",
    "    print(i+j)"
   ]
  },
  {
   "cell_type": "code",
   "execution_count": 44,
   "id": "9b3926d5-bb65-4e21-825e-9233bcee1732",
   "metadata": {},
   "outputs": [],
   "source": [
    "#tuple (duplicate)\n",
    "tup1=(34,'hello',90,'h1',90.6)"
   ]
  },
  {
   "cell_type": "code",
   "execution_count": 45,
   "id": "a9caf72b-3439-4a19-b441-6289e553bc53",
   "metadata": {},
   "outputs": [
    {
     "data": {
      "text/plain": [
       "(34, 'hello', 90, 'h1', 90.6)"
      ]
     },
     "execution_count": 45,
     "metadata": {},
     "output_type": "execute_result"
    }
   ],
   "source": [
    "tup1"
   ]
  },
  {
   "cell_type": "code",
   "execution_count": 46,
   "id": "449de6d5-6f21-45e0-92bd-5ec655eee1ff",
   "metadata": {},
   "outputs": [
    {
     "name": "stdout",
     "output_type": "stream",
     "text": [
      "90\n",
      "45\n",
      "3\n"
     ]
    }
   ],
   "source": [
    "tup2=(90,45,67)\n",
    "print(max(tup2))\n",
    "print(min(tup2))\n",
    "print(len(tup2))"
   ]
  },
  {
   "cell_type": "code",
   "execution_count": 47,
   "id": "f7fc02cd-e822-4077-9730-d04b0ed5edcb",
   "metadata": {},
   "outputs": [
    {
     "data": {
      "text/plain": [
       "[45, 67, 90]"
      ]
     },
     "execution_count": 47,
     "metadata": {},
     "output_type": "execute_result"
    }
   ],
   "source": [
    "tup3=sorted(tup2)#no sort()\n",
    "tup3"
   ]
  },
  {
   "cell_type": "code",
   "execution_count": 48,
   "id": "2e0c25e9-e02a-429f-86ec-1f829dd3cfb7",
   "metadata": {},
   "outputs": [],
   "source": [
    "#dictionary = key value\n",
    "dict1={1:\"joe\",2:\"veena\",3:\"suma\"}\n"
   ]
  },
  {
   "cell_type": "code",
   "execution_count": 50,
   "id": "aea48187-c100-47ec-b3f6-39227b3d42be",
   "metadata": {},
   "outputs": [],
   "source": [
    "dict1={1:\"joe\",2:\"joe\",3:\"suma\"}"
   ]
  },
  {
   "cell_type": "code",
   "execution_count": 51,
   "id": "287c303d-95aa-4aaa-a75c-89bd970aade0",
   "metadata": {},
   "outputs": [
    {
     "data": {
      "text/plain": [
       "{1: 'joe', 2: 'joe', 3: 'suma'}"
      ]
     },
     "execution_count": 51,
     "metadata": {},
     "output_type": "execute_result"
    }
   ],
   "source": [
    "dict1"
   ]
  },
  {
   "cell_type": "code",
   "execution_count": 52,
   "id": "2c4d31a3-be35-424c-b2cc-0413efce6350",
   "metadata": {},
   "outputs": [
    {
     "name": "stdout",
     "output_type": "stream",
     "text": [
      "['dancing', 'sleeping']\n"
     ]
    }
   ],
   "source": [
    "dict2={\"name\":\"suma\",\"hobbies\":['dancing','sleeping']}\n",
    "print(dict2['hobbies'])"
   ]
  },
  {
   "cell_type": "code",
   "execution_count": 53,
   "id": "0df077b2-2033-4b99-b230-fa3fb4434723",
   "metadata": {},
   "outputs": [
    {
     "data": {
      "text/plain": [
       "dict_keys(['name', 'hobbies'])"
      ]
     },
     "execution_count": 53,
     "metadata": {},
     "output_type": "execute_result"
    }
   ],
   "source": [
    "dict2.keys()"
   ]
  },
  {
   "cell_type": "code",
   "execution_count": 54,
   "id": "8ee3bb44-c716-4cc3-9d9d-04079637ca1c",
   "metadata": {},
   "outputs": [
    {
     "data": {
      "text/plain": [
       "dict_values(['suma', ['dancing', 'sleeping']])"
      ]
     },
     "execution_count": 54,
     "metadata": {},
     "output_type": "execute_result"
    }
   ],
   "source": [
    "dict2.values()"
   ]
  },
  {
   "cell_type": "code",
   "execution_count": 55,
   "id": "65133c97-3ac2-4880-9a97-45da6ee4ac82",
   "metadata": {},
   "outputs": [
    {
     "data": {
      "text/plain": [
       "dict_items([('name', 'suma'), ('hobbies', ['dancing', 'sleeping'])])"
      ]
     },
     "execution_count": 55,
     "metadata": {},
     "output_type": "execute_result"
    }
   ],
   "source": [
    "dict2.items()"
   ]
  },
  {
   "cell_type": "code",
   "execution_count": 56,
   "id": "218b2cd6-25df-4810-b61d-fcb9f9d52f78",
   "metadata": {},
   "outputs": [
    {
     "name": "stdout",
     "output_type": "stream",
     "text": [
      "sleeping\n"
     ]
    }
   ],
   "source": [
    "print(dict2['hobbies'][1])"
   ]
  },
  {
   "cell_type": "code",
   "execution_count": 57,
   "id": "c8299545-1816-4d62-b4dd-5afc9cd8d769",
   "metadata": {},
   "outputs": [
    {
     "name": "stdout",
     "output_type": "stream",
     "text": [
      "suma's hobbies are ['dancing', 'sleeping']\n"
     ]
    }
   ],
   "source": [
    "print(\"suma's hobbies are\",dict2['hobbies'])"
   ]
  },
  {
   "cell_type": "code",
   "execution_count": 58,
   "id": "3d7199f8-fb69-4508-8836-ae16a1121d57",
   "metadata": {},
   "outputs": [
    {
     "data": {
      "text/plain": [
       "[12, 34, 56, 12, 67]"
      ]
     },
     "execution_count": 58,
     "metadata": {},
     "output_type": "execute_result"
    }
   ],
   "source": [
    "#set\n",
    "s1=[12,34,56,12,67]\n",
    "s1"
   ]
  },
  {
   "cell_type": "code",
   "execution_count": 59,
   "id": "2e859bd0-ec23-4e26-afdd-9a84585acd96",
   "metadata": {},
   "outputs": [
    {
     "data": {
      "text/plain": [
       "{34, 56, 90, 98}"
      ]
     },
     "execution_count": 59,
     "metadata": {},
     "output_type": "execute_result"
    }
   ],
   "source": [
    "listrep=[90,56,90,34,90,98,56]\n",
    "s2=set(listrep)\n",
    "s2"
   ]
  },
  {
   "cell_type": "code",
   "execution_count": null,
   "id": "0812bcf8-9093-4919-a2d6-31e79a151070",
   "metadata": {},
   "outputs": [],
   "source": []
  }
 ],
 "metadata": {
  "kernelspec": {
   "display_name": "Python 3 (ipykernel)",
   "language": "python",
   "name": "python3"
  },
  "language_info": {
   "codemirror_mode": {
    "name": "ipython",
    "version": 3
   },
   "file_extension": ".py",
   "mimetype": "text/x-python",
   "name": "python",
   "nbconvert_exporter": "python",
   "pygments_lexer": "ipython3",
   "version": "3.11.7"
  }
 },
 "nbformat": 4,
 "nbformat_minor": 5
}
